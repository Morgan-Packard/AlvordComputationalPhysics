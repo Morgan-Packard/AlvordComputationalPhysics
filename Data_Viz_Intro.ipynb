{
 "cells": [
  {
   "cell_type": "markdown",
   "id": "OH4taRsDv7Ez",
   "metadata": {
    "id": "OH4taRsDv7Ez"
   },
   "source": [
    "# Telling the Story of Data\n",
    "\n",
    "***\n",
    "\n",
    "\"Data visualization is all about reducing complexity; we use graphical representations to make difficult concepts and insights more comfortable to understand. Titles, subtitles, notes, annotations, and labels serve an essential function in this process. They guide our audience through the story we’re trying to tell, much like a narrator.\" - [Thiago Carvalho, Towards Data Science](https://towardsdatascience.com/texts-fonts-and-annotations-with-pythons-matplotlib-dfbdea19fc57)\n",
    "\n",
    "***"
   ]
  },
  {
   "cell_type": "markdown",
   "id": "d45d0f22",
   "metadata": {
    "id": "d45d0f22"
   },
   "source": [
    "This notebook produces a plot with matplotlib the simple way (with the pyplot interface) and a more robust way (with matplotlib's object-oriented interface), but it's just code with no comments or explanatory text. Joy! Your task is to add text to explain what the code in this notebook does."
   ]
  },
  {
   "cell_type": "code",
   "execution_count": 2,
   "id": "08b00437",
   "metadata": {
    "id": "08b00437"
   },
   "outputs": [
    {
     "ename": "ModuleNotFoundError",
     "evalue": "No module named 'matplotlib'",
     "output_type": "error",
     "traceback": [
      "\u001b[1;31m---------------------------------------------------------------------------\u001b[0m",
      "\u001b[1;31mModuleNotFoundError\u001b[0m                       Traceback (most recent call last)",
      "Cell \u001b[1;32mIn[2], line 3\u001b[0m\n\u001b[0;32m      1\u001b[0m \u001b[38;5;66;03m#importing relevant libraries\u001b[39;00m\n\u001b[0;32m      2\u001b[0m \u001b[38;5;28;01mimport\u001b[39;00m \u001b[38;5;21;01mnumpy\u001b[39;00m \u001b[38;5;28;01mas\u001b[39;00m \u001b[38;5;21;01mnp\u001b[39;00m\n\u001b[1;32m----> 3\u001b[0m \u001b[38;5;28;01mimport\u001b[39;00m \u001b[38;5;21;01mmatplotlib\u001b[39;00m\u001b[38;5;21;01m.\u001b[39;00m\u001b[38;5;21;01mpyplot\u001b[39;00m \u001b[38;5;28;01mas\u001b[39;00m \u001b[38;5;21;01mplt\u001b[39;00m\n\u001b[0;32m      5\u001b[0m \u001b[38;5;66;03m#np and plt are standard abbreviations\u001b[39;00m\n",
      "\u001b[1;31mModuleNotFoundError\u001b[0m: No module named 'matplotlib'"
     ]
    }
   ],
   "source": [
    "#importing relevant libraries\n",
    "import numpy as np\n",
    "import matplotlib.pyplot as plt\n",
    "\n",
    "#np and plt are standard abbreviations"
   ]
  },
  {
   "cell_type": "code",
   "execution_count": null,
   "id": "924faf71",
   "metadata": {
    "colab": {
     "base_uri": "https://localhost:8080/"
    },
    "id": "924faf71",
    "outputId": "98353f63-4735-49b9-bb3c-722f0774aa72"
   },
   "outputs": [],
   "source": [
    "np.linspace(0, 10, num=5, endpoint=True)"
   ]
  },
  {
   "cell_type": "markdown",
   "id": "fd3c40e3-9859-42a4-84eb-e304c7028eda",
   "metadata": {
    "cellView": "form",
    "id": "my_Uxv4d165z"
   },
   "source": [
    "Summarize what each number means in the line above:\n",
    "\n",
    "First_number = \n",
    "\n",
    "Second_number = \n",
    "\n",
    "Third_number = \n",
    "\n",
    "Predict what will happen if you change True to False in the line above\n",
    "\n",
    "Prediction = \n",
    "\n",
    "What happened?\n",
    "\n",
    "Observation = "
   ]
  },
  {
   "cell_type": "code",
   "execution_count": null,
   "id": "Ivnmzqfv4g08",
   "metadata": {
    "colab": {
     "base_uri": "https://localhost:8080/"
    },
    "id": "Ivnmzqfv4g08",
    "outputId": "c183f8c3-32af-44b1-faa5-2259f8dda4cf"
   },
   "outputs": [],
   "source": [
    "#here is the same line again. Now that you have played with it, add a comment to the right of the line explaining the code\n",
    "#add a comment below the line with the relevant documentation page from numpy\n",
    "\n",
    "np.linspace(0, 10, num=5, endpoint=True)"
   ]
  },
  {
   "cell_type": "markdown",
   "id": "g8rnANk94toS",
   "metadata": {
    "id": "g8rnANk94toS"
   },
   "source": [
    "Now we will move on to graphing. For each line, add a comment describing what the line does. Feel free to maniuplate variables to aid in your understanding\n",
    "\n",
    "If a numpy or matplotlib function is used, provide the relevant documentation page"
   ]
  },
  {
   "cell_type": "code",
   "execution_count": null,
   "id": "bf9ccb01",
   "metadata": {
    "colab": {
     "base_uri": "https://localhost:8080/",
     "height": 447
    },
    "id": "bf9ccb01",
    "outputId": "01879423-07d9-485d-d5b6-0722af0ec373"
   },
   "outputs": [],
   "source": [
    "def model_function(x):\n",
    "    a = 2\n",
    "    b = -7\n",
    "    y = a * (x**2) + b\n",
    "    return y\n",
    "\n",
    "xvals = np.linspace(0, 5, num=10)\n",
    "yvals = model_function(xvals)\n",
    "plt.scatter(xvals, yvals)"
   ]
  },
  {
   "cell_type": "markdown",
   "id": "CTOZhhkQqf7q",
   "metadata": {
    "id": "CTOZhhkQqf7q"
   },
   "source": [
    "Below is another line of code that uses the same data but plots differently. Run the code and determine what the difference is."
   ]
  },
  {
   "cell_type": "code",
   "execution_count": null,
   "id": "1a5fad42",
   "metadata": {
    "colab": {
     "base_uri": "https://localhost:8080/",
     "height": 447
    },
    "id": "1a5fad42",
    "outputId": "32192748-2b7d-44e1-af2e-e78feebfb08c"
   },
   "outputs": [],
   "source": [
    "plt.plot(xvals, yvals, color='k', alpha=.1)"
   ]
  },
  {
   "cell_type": "markdown",
   "id": "710a3287-f21f-44b4-b1ea-4352f444b121",
   "metadata": {
    "cellView": "form",
    "id": "zBmhkaGFqu7Y"
   },
   "source": [
    "What happened? How is this different from the previous plot?\n",
    "\n",
    "Observation = \n",
    "\n",
    "This line of code also has two new features: color and alpha. Try different values for these to observe what happens\n",
    "\n",
    "What does color do?\n",
    "\n",
    "Color = \n",
    "\n",
    "What does alpha do?\n",
    "\n",
    "Alpha = \n",
    "\n",
    "There are many other features we can add to a plot and we'll explore some of these later. For now, try adding a marker (a symbol at each data point). Add into the parenthesis above: marker = . Now go to the first cheatsheet [here](https://matplotlib.org/cheatsheets/) to select a marker type.\n",
    "\n",
    "\n"
   ]
  },
  {
   "cell_type": "markdown",
   "id": "yyTt6C_W88ru",
   "metadata": {
    "id": "yyTt6C_W88ru"
   },
   "source": [
    "Now that you have explored some of the code behind this graph, think about what is the story of the data.\n",
    "\n",
    "Click this text and write a story for the data in this markdown box. Your story does not have to be limited to physics.\n",
    "\n"
   ]
  },
  {
   "cell_type": "code",
   "execution_count": null,
   "id": "37d7afb7-525e-48ff-8153-2262ae86960a",
   "metadata": {},
   "outputs": [],
   "source": [
    "#While the next chunk of this program is a leap up in customization, there are a few key lines I hope you will still use should you use this simple pyplot interface\n",
    "\n",
    "plt.plot(xvals, yvals, color='k', alpha=.1)\n",
    "plt.title(\"This is a title\")\n",
    "plt.xlabel('label here')\n",
    "plt.ylabel('units are nice')"
   ]
  },
  {
   "cell_type": "markdown",
   "id": "_YHjIaZGsm9Z",
   "metadata": {
    "id": "_YHjIaZGsm9Z"
   },
   "source": [
    "***\n",
    "\n",
    "#### Next step: Customization\n",
    "\n",
    "The preivous two graphs use the pyplot interface. This interface can generate quick and easy plots, but is best for simple plots.\n",
    "\n",
    "The code below is an example of using the object oriented interface. It creates a figure (fig) that can hold many different elements, allowing for greater customization.\n",
    "\n",
    "For each line of code, describe what the line does. If there are multiple features in a line of code, describe each element. Again, feel free to manipulate variables to aid in your exploration."
   ]
  },
  {
   "cell_type": "code",
   "execution_count": null,
   "id": "d52f7485",
   "metadata": {
    "colab": {
     "base_uri": "https://localhost:8080/",
     "height": 468
    },
    "id": "d52f7485",
    "outputId": "9608da04-5da7-464d-98d4-095351dfae58"
   },
   "outputs": [],
   "source": [
    "fig, ax = plt.subplots(2, 2, figsize=(10,5))\n",
    "fig.subplots_adjust(hspace=0.5)\n",
    "\n",
    "ax[0,0].plot(xvals, yvals, color= 'chartreuse', label='one', linestyle=\"--\")\n",
    "ax[0,0].plot(xvals, xvals*2+4, color= 'skyblue', label='two', linestyle=\"--\")\n",
    "ax[0,0].legend()\n",
    "\n",
    "ax[1,0].set_title(\"this is a title\")\n",
    "ax[1,0].annotate('there is nothing here',xy=(.5, .5), xytext=(.2, .7), arrowprops=dict(facecolor='black', arrowstyle=\"->\"))\n",
    "ax[1,0].spines['top'].set_visible(False)\n",
    "ax[1,0].spines['right'].set_visible(False)\n",
    "ax[1,0].spines['bottom'].set_color('#565656')\n",
    "\n",
    "ax[0,1].set(xlabel=\"some label\", ylabel=\"other label\", title=\"a title?\")\n",
    "ax[0,1].set_xlim(2,5)\n",
    "ax[0,1].xaxis.set_ticks_position('none')\n",
    "ax[0,1].tick_params(labelcolor='grey')\n",
    "ax[0,1].grid(color='#565656', axis='y', linestyle='-', linewidth=0.25, alpha=0.5)\n",
    "\n",
    "ax[1,1].axhline(.5, color='purple')\n",
    "ax[1,1].text(.5, .2, \"text!\")\n",
    "\n",
    "plt.show()"
   ]
  },
  {
   "cell_type": "markdown",
   "id": "ly5LcfRqy-eS",
   "metadata": {
    "id": "ly5LcfRqy-eS"
   },
   "source": [
    "## Object Oriented Interface Challenges!\n",
    "The [cheatsheets](https://matplotlib.org/cheatsheets/) for matplotlib may be helpful.\n",
    "\n",
    "For the top left graph\n",
    "- add a title and axis labels\n",
    "- annotate the intersection point\n",
    "- change the location of the legend\n",
    "\n",
    "For the top right graph\n",
    "- add vertical grid lines, color of your choice\n",
    "- add a scatter plot of yvals versus xvals using a marker of your choice\n",
    "- change one scale to be a log scale\n",
    "\n",
    "For the bottom left graph\n",
    "- change the style of the arrow\n",
    "- plot a marker at the tip of the arrow\n",
    "  - If the scale of your graph goes crazy at this point, try setting the x and y axes to a fixed scale\n",
    "- change the text of the annotation to match your maker\n",
    "\n",
    "***\n",
    "The last graph, bottom right, is pretty boring and needs a bigger change. To accomplish these changes, understand that copy and paste is a valuable skill in coding. Just don't forget your comments for each line!\n",
    "\n",
    "- Create a new set of x values with a new variable name.\n",
    "- Create a new function that takes in an x value and returns a y value.\n",
    "  - Be creative here! We imported numpy which can handle many different [math functions](https://numpy.org/doc/stable/reference/routines.math.html)\n",
    "- Create a new variable name for these y values.\n",
    "\n",
    "In the bottom right graph\n",
    "- plot your new y values versus your new x values\n",
    "- add a title and axis labels\n",
    "- add grid lines\n",
    "- add color and annotations as you see fit\n",
    "\n",
    "\n"
   ]
  },
  {
   "cell_type": "markdown",
   "id": "JTaCTQp45old",
   "metadata": {
    "id": "JTaCTQp45old"
   },
   "source": [
    "Now that you have a new beautiful graph, construct a written story that your graph could tell. You are not limited to physics to tell your story.\n",
    "\n",
    "Click on this text and add your story to this markdown box."
   ]
  },
  {
   "cell_type": "markdown",
   "id": "wTlRubXymhPJ",
   "metadata": {
    "id": "wTlRubXymhPJ"
   },
   "source": [
    "***\n",
    "Credit for the basis of this notebook goes to the QuarkNet Coding Fellows. It was adapated by Megan Alvord for students at NCSSM."
   ]
  }
 ],
 "metadata": {
  "colab": {
   "provenance": []
  },
  "kernelspec": {
   "display_name": "Python 3 (ipykernel)",
   "language": "python",
   "name": "python3"
  },
  "language_info": {
   "codemirror_mode": {
    "name": "ipython",
    "version": 3
   },
   "file_extension": ".py",
   "mimetype": "text/x-python",
   "name": "python",
   "nbconvert_exporter": "python",
   "pygments_lexer": "ipython3",
   "version": "3.12.5"
  }
 },
 "nbformat": 4,
 "nbformat_minor": 5
}
