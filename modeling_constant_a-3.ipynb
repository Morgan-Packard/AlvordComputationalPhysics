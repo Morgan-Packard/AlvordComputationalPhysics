{
 "cells": [
  {
   "cell_type": "markdown",
   "id": "bc7303d7-17f0-46b9-a815-8624ed35e4e6",
   "metadata": {},
   "source": [
    "# Intro To Modeling Constant Acceleration Motion\n",
    "\n",
    "In this activity you will learn to:  \n",
    "- calculate acceleration\n",
    "- update velocity\n",
    "- graph velocity vs time graphs\n",
    "\n",
    "<hr/>\n",
    "\n",
    "# Part 1: How do we calculate acceleration?\n",
    "\n",
    "Take the example question: A car has a mass of 1500 kg. If the driver applies the brakes while on a gravel road, the maximum friction force that the tires can provide without skidding is about 7000 N. If the car is moving at 20 m/s, what is the shortest distance in which the car can stop safely? (Knight Ch. 4, problem 62)\n"
   ]
  },
  {
   "cell_type": "code",
   "execution_count": 11,
   "id": "b118a37d-efed-48e9-9a1e-f03fc228627c",
   "metadata": {},
   "outputs": [
    {
     "name": "stdout",
     "output_type": "stream",
     "text": [
      "41.85333333333337 m\n"
     ]
    },
    {
     "data": {
      "image/png": "[encoded data removed]",
      "text/plain": [
       "<Figure size 640x480 with 1 Axes>"
      ]
     },
     "metadata": {},
     "output_type": "display_data"
    }
   ],
   "source": [
    "# put the needed libraries first, here at the top\n",
    "import matplotlib.pyplot as plt         # \"plt\" is much shorter\n",
    "\n",
    "#Knowns - what variables did the problem give us? don't forget units!\n",
    "m = 1500 # kg, mass\n",
    "F_friction = 7000 # N, force friction\n",
    "v = 20 #m/s, velocity\n",
    "\n",
    "#in addition to the known values, are there any assumed values?\n",
    "\n",
    "t = 0 #s, Starting time\n",
    "x = 0 #m, Initial position\n",
    "\n",
    "#We also want to update time incrementally with the Euler method\n",
    "dt = 0.1 #s\n",
    "\n",
    "#Lists - these will typically be used to create graphs, so think about what we want to graph! Don't forget units\n",
    "\n",
    "tlist = [t] #s\n",
    "xlist = [x] #m\n",
    "\n",
    "#The Motion - Using a while loop, we update the various variables of the object\n",
    "\n",
    "while v >= 0: #example - while t < 10 - read the question closely. Under what condition do we want to the code to stop running?\n",
    "    a = -F_friction/m  #what physics is happening here?\n",
    "    v = v + a*dt  #what physics is happening here?\n",
    "    x = x + v*dt  #what physics is happening here?\n",
    "    t = t + dt  #what physics is happening here?\n",
    "\n",
    "    #we also need to update our lists\n",
    "    tlist.append(t)\n",
    "    xlist.append(x)\n",
    "\n",
    "import matplotlib.pyplot as plt         # \"plt\" is much shorter\n",
    "\n",
    "print(x, \"m\")\n",
    "\n",
    "plt.xlabel(\"time (s)\")\n",
    "plt.ylabel(\"distance (m)\")\n",
    "plt.title(\"distance vs time\")\n",
    "\n",
    "plt.scatter(tlist, xlist, color='pink', edgecolor='blue');   # this makes a scatterplot!\n",
    "\n",
    "plt.show() \n",
    "\n",
    "\n",
    "#Graphs - what are the common physics graphs you'd be asked for a question like this? \n",
    "#Do you have a graphing code you can copy and paste here?\n",
    "\n",
    "#How do we get the computer to tell us the answer? Where is this variable being stored? How do we print it out?\n"
   ]
  },
  {
   "cell_type": "markdown",
   "id": "4201b4f7-55ae-44ee-b8ad-46b4c490fb05",
   "metadata": {},
   "source": [
    "The answer above should be 42.847 m\n",
    "\n",
    "Now your turn. Try this problem out: A stationary car with a mass of 1500 kg is being towed by a rope pulling with 2300 N held at a 20 degree angle to the horizontal. How long does it take the car to reach 90 m? Assume no friction (modified from example 5.6, Knight)."
   ]
  },
  {
   "cell_type": "code",
   "execution_count": 14,
   "id": "61ed0bcf-125c-40b1-a18f-7335c2bb7662",
   "metadata": {},
   "outputs": [
    {
     "name": "stdout",
     "output_type": "stream",
     "text": [
      "16.99999999999997\n"
     ]
    }
   ],
   "source": [
    "#We don't have to put the libraries in this code if the coding cell above has already been run this session\n",
    "import numpy as np\n",
    "\n",
    "#Knowns\n",
    "m = 1500 # kg, mass\n",
    "f = 2300 # N, force tension, rope\n",
    "xf = 90 #m, final position\n",
    "x = 0 #m, initial position\n",
    "v = 0 #m/s, initial speed\n",
    "t = 0 #initial time\n",
    "dt = 0.1\n",
    "\n",
    "#Lists\n",
    "tlist = [t] #s\n",
    "xlist = [x] #m\n",
    "\n",
    "#The Motion\n",
    "\n",
    "while x < 90: #example - while t < 10 - read the question closely. Under what condition do we want to the code to stop running?\n",
    "    a = np.cos(20)*f/m  #acceleration is 20 degrees above the horizontal\n",
    "    v = v + a*dt  #what physics is happening here?\n",
    "    x = x + v*dt  #what physics is happening here?\n",
    "    t = t + dt  #what physics is happening here?\n",
    "\n",
    "    #we also need to update our lists\n",
    "    tlist.append(t)\n",
    "    xlist.append(x)\n",
    "\n",
    "#Graphs\n",
    "\n",
    "#How do we get the computer to tell us the answer? Print it out!\n",
    "print(t)"
   ]
  },
  {
   "cell_type": "markdown",
   "id": "974ba1c4-0bef-4cb3-a186-ccaf09a82fd2",
   "metadata": {},
   "source": [
    "For the code above, helpful numpy functions are\n",
    "\n",
    "- np.cos() = computes the cosine of an angle in radians\n",
    "- np.sin() = computes the sine of an angle in radians\n",
    "- np.deg2rad() = converts an angle in degrees to an angle in radians\n",
    "\n",
    "The answer to the code above should be 11.177 s"
   ]
  },
  {
   "cell_type": "code",
   "execution_count": null,
   "id": "8c6da18e-986b-467d-ba72-83f0f4c37b27",
   "metadata": {},
   "outputs": [],
   "source": []
  }
 ],
 "metadata": {
  "kernelspec": {
   "display_name": "Python 3 (ipykernel)",
   "language": "python",
   "name": "python3"
  },
  "language_info": {
   "codemirror_mode": {
    "name": "ipython",
    "version": 3
   },
   "file_extension": ".py",
   "mimetype": "text/x-python",
   "name": "python",
   "nbconvert_exporter": "python",
   "pygments_lexer": "ipython3",
   "version": "3.10.12"
  }
 },
 "nbformat": 4,
 "nbformat_minor": 5
}
