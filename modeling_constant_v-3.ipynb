{
 "cells": [
  {
   "cell_type": "markdown",
   "id": "5ba3dee3-5bfb-48c4-b886-44b4a74bfcfd",
   "metadata": {},
   "source": [
    "# Intro To Modeling Constant Velocity Motion\n",
    "\n",
    "In this activity you will learn to:  \n",
    "- define variables\n",
    "- use variables in calculations\n",
    "- ask the user for inputs\n",
    "- how to make and update lists\n",
    "- how plot a graph using lists\n",
    "\n",
    "<hr/>\n",
    "\n",
    "# Part 1: Defining Knowns and Unknowns in Code (variables and data types)  \n",
    "Knowns and Unknowns in physics are, simply put, variables. In coding, variables are a container that store information. There are several variable types we will explore through this course, but for now, simply think of them as a box with a name, type, and value. Naming variables is important. Each variable is named so it is clear which variable is being used at any time. It is important to use meaningful names for variables. Some guidelines include:\n",
    "- Consistency: ‘name’ is not the same as ‘Name’ or ‘NAME’.\n",
    "- Spacing: variable names should not have a space in them. Use underscores or camelCase instead, eg total_money; totalMoney).\n",
    "- Digits: variable names should not start with a digit\n",
    "\n",
    "In physics, variables are typically numbers (though not always). To store numbers in code, we have to use the appropriate data type. There are 5 data types in code: \n",
    "- String (or str or text). Used for a combination of any characters that appear on a keyboard, such as letters, numbers and symbols.\n",
    "- Character (or char). Used for single letters.\n",
    "- Integer (or int). Used for whole numbers.\n",
    "- Float (or Real). Used for numbers that contain decimal points, or for fractions.\n",
    "- Boolean (or bool). Used where data is restricted to True/False or yes/no options.\n",
    "\n",
    "Looking at the list above, which data types were typically used in your previous physics class? \n",
    "\n",
    "After defining the name and type, your variable is ready for a value. This value should match the data type. \n",
    "\n",
    "# Let's look at an example problem\n",
    "\n",
    "A greyhound is running at 20 m/s for 70 m. What is the greyhound's time to complete this distance?\n",
    "\n"
   ]
  },
  {
   "cell_type": "code",
   "execution_count": 2,
   "id": "36b9c8f2-f20b-4a2b-9fdc-8f0086287797",
   "metadata": {},
   "outputs": [
    {
     "name": "stdout",
     "output_type": "stream",
     "text": [
      "3.5 s\n"
     ]
    }
   ],
   "source": [
    "#your turn\n",
    "\n",
    "speed = 20    # in this line, create and define a variable for the speed. Put the unit for the speed in the comment here: m/s\n",
    "distance = 70    # in this line, create and define a variable for the distance. Put the unit for the distance in the comment here: m \n",
    "time = distance/speed    # in this line, create and define a variable for the time. Put the unit for the time in the comment here: 0\n",
    "\n",
    "print(time, \"s\") #put your variable for time in the parentheses \n",
    "#Hit shift+enter. What happens?"
   ]
  },
  {
   "cell_type": "markdown",
   "id": "05e219ed-290a-4ffc-aff0-81931d8af255",
   "metadata": {},
   "source": [
    "Use this markdown box to describe the printing process (these are your notes!!!)"
   ]
  },
  {
   "cell_type": "markdown",
   "id": "08057e4b-fae1-4c16-8dd3-f267f72ff88d",
   "metadata": {},
   "source": [
    "<hr/>\n",
    "\n",
    "# Part 2: Asking the user for input\n",
    "\n",
    "Let's build a basic calculator to learn how to get input from "
   ]
  },
  {
   "cell_type": "code",
   "execution_count": 3,
   "id": "1b057ef3-0b94-4ba0-8c5a-8ce73372fa32",
   "metadata": {},
   "outputs": [
    {
     "name": "stdout",
     "output_type": "stream",
     "text": [
      "42.0\n"
     ]
    }
   ],
   "source": [
    "#basic calculator \n",
    "\n",
    "num1 = float(input(\"Pick a number: \"))\n",
    "num2 = float(input(\"Pick another number: \"))\n",
    "\n",
    "print(num1 + num2)"
   ]
  },
  {
   "cell_type": "markdown",
   "id": "dc742792-76d6-462a-b884-25c29c8dd462",
   "metadata": {},
   "source": [
    "Uh oh, that didn't do what we wanted. \n",
    "\n",
    "Trying putting float() around the input command"
   ]
  },
  {
   "cell_type": "code",
   "execution_count": 5,
   "id": "92200b80-94d6-4cc8-b492-c8cd836faded",
   "metadata": {},
   "outputs": [
    {
     "name": "stdout",
     "output_type": "stream",
     "text": [
      "3.0 m/s\n"
     ]
    }
   ],
   "source": [
    "#Copy, paste, and modify your code for the greyhound problem above, but now ask the user for time and distance as inputs. \n",
    "#Modify your code to take the inputs and produce the speed of the greyhound based on those inputs\n",
    "\n",
    "distance = float(input(\"Please pick a distance\"))\n",
    "time = float(input(\"Please pick a time\"))\n",
    "\n",
    "print(distance/time, \"m/s\")"
   ]
  },
  {
   "cell_type": "markdown",
   "id": "d17b9859-c326-4679-832a-4b6a70da4766",
   "metadata": {},
   "source": [
    "<hr/>\n",
    "\n",
    "# Part 3: Lists and Graphing\n",
    "\n",
    "The greyhound problem is just a start, but it is limited in only looking at the beginning and end of the motion. To explore the entire motion, we need to see what happens between those two times. Lists and graphs will allow us to do this. \n",
    "\n",
    "Lists are used to store multiple items in a single variable. For example, you could have a list of times and distances. Lists can then be used to graph. \n",
    "\n",
    "Below is a really rough code block, but it graphs two lists. Look over this code then modify based on the challenges below. \n",
    "\n",
    "**Challenges**\n",
    "- Notice how the lists are simply put into the scatter plot? Let's take those out and make them into defined variables\n",
    "- Add a descriptive horizontal label: plt.xlabel(\"time (s)\")\n",
    "- Add a descriptive vertical label\n",
    "- Add a descriptive title\n",
    "- Change the color of one of your labels"
   ]
  },
  {
   "cell_type": "code",
   "execution_count": 9,
   "id": "c37ed85a-6f48-4b0c-bf4f-92949c227265",
   "metadata": {},
   "outputs": [
    {
     "data": {
      "image/png": "[encoded data removed]",
      "text/plain": [
       "<Figure size 640x480 with 1 Axes>"
      ]
     },
     "metadata": {},
     "output_type": "display_data"
    }
   ],
   "source": [
    "# some libraries have long names, so a nickname is handy\n",
    "import matplotlib.pyplot as plt         # \"plt\" is much shorter\n",
    "\n",
    "plt.xlabel(\"time (s)\")\n",
    "plt.ylabel(\"distance (m)\")\n",
    "plt.title(\"distance vs time\")\n",
    "\n",
    "plt.scatter([1,2,3,4,5], [0,1,3,4,2], color='pink', edgecolor='blue');   # this makes a scatterplot!\n",
    "\n",
    "plt.show() #this shows the graph"
   ]
  },
  {
   "cell_type": "markdown",
   "id": "eda9d9f6-5fb0-4168-9f27-9351d21e714f",
   "metadata": {},
   "source": [
    "***\n",
    "\n",
    "Now back to that greyhound. Let's say that our greyhound needs to race a 400 m track and can run at 15 m/s. If we want to find the time it takes to complete the race, this is a really simple problem. However, the method we will use to solve this problem is called numerical analysis and a very powerful tool. There are multiple numerical analysis techniques, but we will focus on the Euler method for now due to being conceptually easier. "
   ]
  },
  {
   "cell_type": "code",
   "execution_count": 10,
   "id": "aa4c2a50-bcb2-488a-bdfc-e00316205d78",
   "metadata": {},
   "outputs": [],
   "source": [
    "#Knowns - what variables did the problem give us? don't forget units!\n",
    "xf = 400 #m, the finish line\n",
    "v = 15 #m/s, speed of the greyhound\n",
    "\n",
    "#in addition to the known values, are there any assumed values?\n",
    "\n",
    "t = 0 #s, start time\n",
    "x = 0 #m, start position\n",
    "\n",
    "#We also want to update time incrementally with the Euler method\n",
    "dt = 0.1 #s, change in time for each iteration\n",
    "\n",
    "#Lists - these will typically be used to create graphs, so think about what we want to graph! Don't forget units\n",
    "\n",
    "t_list = [t] #s\n",
    "x_list = [x] #m\n",
    "\n",
    "#The Motion - Using a while loop, we update the various variables of the object\n",
    "#this is the Euler method of numerical analysis\n",
    "\n",
    "while x <= xf: #example - while t < 10:\n",
    "    x = x + v*dt  #what physics is happening here?\n",
    "    t = t + dt  #what physics is happening here?\n",
    "\n",
    "    #we also need to update our lists\n",
    "    t_list.append(t)\n",
    "    x_list.append(x)\n",
    "\n",
    "\n",
    "#Graphs - what are the common physics graphs you'd be asked for a question like this? \n",
    "\n",
    "#Do you have a graphing code you can copy and paste here?\n",
    "\n",
    "#How do we get the computer to tell us the answer? Where is this variable being stored? How do we print it out?\n",
    "\n"
   ]
  },
  {
   "cell_type": "markdown",
   "id": "0f235e18-f1cf-4322-9030-3bb14e057398",
   "metadata": {},
   "source": [
    "Part 3 Reflection and Notes: Here is space for you to summarize what you learned in part 3\n",
    "\n",
    "Things to think about/consider taking notes on\n",
    "- did your printed answer match your expected value?\n",
    "- how can you get your printed answer to better match the expected value?\n",
    "- How might this code change if the velocity is not constant?"
   ]
  },
  {
   "cell_type": "code",
   "execution_count": null,
   "id": "5dfceb37-56ad-4cea-a841-52522419b146",
   "metadata": {},
   "outputs": [],
   "source": []
  }
 ],
 "metadata": {
  "kernelspec": {
   "display_name": "Python 3 (ipykernel)",
   "language": "python",
   "name": "python3"
  },
  "language_info": {
   "codemirror_mode": {
    "name": "ipython",
    "version": 3
   },
   "file_extension": ".py",
   "mimetype": "text/x-python",
   "name": "python",
   "nbconvert_exporter": "python",
   "pygments_lexer": "ipython3",
   "version": "3.10.12"
  }
 },
 "nbformat": 4,
 "nbformat_minor": 5
}
